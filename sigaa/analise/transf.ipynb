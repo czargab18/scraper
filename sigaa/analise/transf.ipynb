{
 "cells": [
  {
   "cell_type": "markdown",
   "id": "7254d24c",
   "metadata": {},
   "source": [
    "Script para processar dados de departamentos da UnB\n",
    "Lê o arquivo CSV gerado pelo script transformar.py e processa os dados\n",
    "\n",
    "Formato esperado:\n",
    "id_departamento;nome_departamento\n",
    "672;CAMPUS UNB CEILÂNDIA: FACULDADE DE CIENCIAS E TECNOLOGIAS EM SAÚDE - BRASÍLIA\n",
    "677;CENTRO UNB CERRADO - BRASÍLIA\n",
    "130;DECANATO DE ENSINO DE GRADUACAO / DEG - BRASÍLIA\n",
    "392;DEPARTAMENTO DE TEORIA E FUNDAMENTOS - BRASÍLIA\n",
    "327;DEPTO ADMINISTRAÇÃO - BRASÍLIA\n",
    "643;DIRETORIA DO CENTRO DE APOIO AO DESENVOLVIMENTO TECNOLÓGICO - BRASÍLIA\n",
    "363;FACULDADE DE AGRONOMIA E MEDICINA VETERINÁRIA - BRASÍLIA\n",
    "288;HOSP-HOSPITAL UNIVERSITÁRIO DE BRASÍLIA - BRASÍLIA\n",
    "668;INSTITUTO DE CIÊNCIA POLÍTICA - BRASÍLIA\n",
    "542;OBSERVATÓRIO SISMOLÓGICO - BRASÍLIA\n",
    "1615;PARQUE DE INOVAÇÃO E SUSTENTABILIDADE DO AMBIENTE CONSTRUÍDO - BRASÍLIA\n",
    "69;REITORIA - BRASÍLIA\n",
    "140;SECRETARIA DE ADMINISTRACAO ACADEMICA - BRASÍLIA"
   ]
  },
  {
   "cell_type": "code",
   "execution_count": 14,
   "id": "1ad933e3",
   "metadata": {},
   "outputs": [
    {
     "name": "stdout",
     "output_type": "stream",
     "text": [
      "  id_departamento                                  nome_departamento\n",
      "0             672  CAMPUS UNB CEILÂNDIA: FACULDADE DE CIENCIAS E ...\n",
      "1             673  CAMPUS UNB GAMA: FACULDADE DE CIÊNCIAS E TECNO...\n",
      "2             640   CENTRO DE DESENVOLVIMENTO SUSTENTÁVEL - BRASÍLIA\n",
      "3             314         CENTRO DE EXCELÊNCIA EM TURISMO - BRASÍLIA\n",
      "4             650  CENTRO ESTUDOS AVANÇADOS MULTIDISCIPLIN - BRAS...\n"
     ]
    }
   ],
   "source": [
    "from turtle import clear\n",
    "import pandas\n",
    "import re\n",
    "\n",
    "# Carregar dados dos departamentos\n",
    "# Corrigindo o caminho para a localização correta do arquivo\n",
    "unidades = pandas.read_csv(\n",
    "    \"../data/unidades/departamentos.csv\",  # Caminho correto relativo ao notebook\n",
    "    sep=\";\",\n",
    "    encoding=\"utf-8\",\n",
    "    dtype={\n",
    "        \"id_departamento\": str,\n",
    "        \"nome_departamento\": str,\n",
    "    },\n",
    ")\n",
    "\n",
    "print(unidades.head())"
   ]
  },
  {
   "cell_type": "code",
   "execution_count": null,
   "id": "681bbf86",
   "metadata": {},
   "outputs": [],
   "source": [
    "nomes = unidades['nome_departamento'].tolist()"
   ]
  },
  {
   "cell_type": "code",
   "execution_count": 23,
   "id": "36c3bd9f",
   "metadata": {},
   "outputs": [
    {
     "name": "stdout",
     "output_type": "stream",
     "text": [
      "\n",
      "DataFrame com novas colunas:\n",
      "  id_departamento                                          campus  \\\n",
      "0             672                            CAMPUS UNB CEILÂNDIA   \n",
      "1             673                                 CAMPUS UNB GAMA   \n",
      "2             640           CENTRO DE DESENVOLVIMENTO SUSTENTÁVEL   \n",
      "3             314                 CENTRO DE EXCELÊNCIA EM TURISMO   \n",
      "4             650         CENTRO ESTUDOS AVANÇADOS MULTIDISCIPLIN   \n",
      "5             316        CENTRO INTEGRADO ORDENAMENTO TERRITORIAL   \n",
      "6            1448  CENTRO INTERNACIONAL DE BIOÉTICA E HUMANIDADES   \n",
      "7             677                              CENTRO UNB CERRADO   \n",
      "8             130           DECANATO DE ENSINO DE GRADUACAO / DEG   \n",
      "9             170                                 DECANATO DE PÓS   \n",
      "\n",
      "                                        departamento    cidade  \n",
      "0       FACULDADE DE CIENCIAS E TECNOLOGIAS EM SAÚDE  BRASÍLIA  \n",
      "1  FACULDADE DE CIÊNCIAS E TECNOLOGIAS EM ENGENHARIA  BRASÍLIA  \n",
      "2                                           BRASÍLIA      None  \n",
      "3                                           BRASÍLIA      None  \n",
      "4                                           BRASÍLIA      None  \n",
      "5                                           BRASÍLIA      None  \n",
      "6                                           BRASÍLIA      None  \n",
      "7                                           BRASÍLIA      None  \n",
      "8                                           BRASÍLIA      None  \n",
      "9                                    GRADUAÇÃO / DPG  BRASÍLIA  \n"
     ]
    }
   ],
   "source": [
    "padrao = re.compile(r':\\s*|\\s*-\\s*')\n",
    "\n",
    "# Listas para armazenar as novas colunas\n",
    "campus_list = []\n",
    "departamento_list = []\n",
    "cidade_list = []\n",
    "\n",
    "for unidade in nomes:\n",
    "    partes_brutas = padrao.split(unidade)\n",
    "    partes = []\n",
    "    for parte in partes_brutas:\n",
    "        parte_limpa = parte.strip()\n",
    "        if parte_limpa:\n",
    "            partes.append(parte_limpa)\n",
    "\n",
    "    # Garantir que temos pelo menos 3 elementos (preenchendo com None se necessário)\n",
    "    while len(partes) < 3:\n",
    "        partes.append(None)\n",
    "\n",
    "    # Adicionar às listas\n",
    "    campus_list.append(partes[0] if len(partes) > 0 else None)\n",
    "    departamento_list.append(partes[1] if len(partes) > 1 else None)\n",
    "    cidade_list.append(partes[2] if len(partes) > 2 else None)\n",
    "\n",
    "# Adicionar as novas colunas ao DataFrame\n",
    "unidades['campus'] = campus_list\n",
    "unidades['departamento'] = departamento_list\n",
    "unidades['cidade'] = cidade_list\n",
    "\n",
    "# Exibir o resultado\n",
    "print(\"\\nDataFrame com novas colunas:\")\n",
    "print(unidades[['id_departamento', 'campus',\n",
    "      'departamento', 'cidade']].head(10))"
   ]
  }
 ],
 "metadata": {
  "kernelspec": {
   "display_name": "scraper",
   "language": "python",
   "name": "python3"
  },
  "language_info": {
   "codemirror_mode": {
    "name": "ipython",
    "version": 3
   },
   "file_extension": ".py",
   "mimetype": "text/x-python",
   "name": "python",
   "nbconvert_exporter": "python",
   "pygments_lexer": "ipython3",
   "version": "3.13.5"
  }
 },
 "nbformat": 4,
 "nbformat_minor": 5
}
